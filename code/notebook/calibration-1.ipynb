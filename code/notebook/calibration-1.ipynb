{
 "cells": [
  {
   "cell_type": "markdown",
   "metadata": {},
   "source": [
    "# Calibration for isolated runs"
   ]
  },
  {
   "cell_type": "code",
   "execution_count": null,
   "metadata": {},
   "outputs": [],
   "source": [
    "from collections import OrderedDict\n",
    "from pathlib import Path\n",
    "\n",
    "import matplotlib.pyplot as plt\n",
    "import pandas as pd\n",
    "import yt\n",
    "\n",
    "%matplotlib inline\n",
    "yt.mylog.setLevel(40)"
   ]
  },
  {
   "cell_type": "markdown",
   "metadata": {},
   "source": [
    "## Star formation history"
   ]
  },
  {
   "cell_type": "code",
   "execution_count": null,
   "metadata": {},
   "outputs": [],
   "source": [
    "# Specify simulations\n",
    "sims = OrderedDict([\n",
    "    ('isolated-common-old', 'Old Common Feedback'),\n",
    "    ('isolated-common', 'Common Feedback'),\n",
    "    ('isolated-favorite', 'Favorite Feedback')\n",
    "])"
   ]
  },
  {
   "cell_type": "code",
   "execution_count": null,
   "metadata": {},
   "outputs": [],
   "source": [
    "# Collect data\n",
    "sfh = {}\n",
    "for name in sims.keys():\n",
    "    print(name)\n",
    "    sfh_file = Path(f'cache/sfh-{name}.csv')\n",
    "    if not sfh_file.exists():   \n",
    "        # Make SFH table\n",
    "        output_dir = Path(f'data/sim/{name}/output')\n",
    "        rows = []\n",
    "        for snap in sorted(Path(output_dir).glob('*.hdf5')):\n",
    "            ds = yt.load(str(snap), bounding_box=[[-1e3, 1e3]]*3)\n",
    "            ad = ds.all_data()\n",
    "            row = pd.Series()\n",
    "            row['t'] = float(ds.current_time.to('Gyr'))\n",
    "            try:\n",
    "                row['m_star'] = float(\n",
    "                    ad['PartType4', 'particle_mass'].sum().to('Msun')\n",
    "                )\n",
    "            except:\n",
    "                row['m_star'] = 0\n",
    "            rows.append(row)\n",
    "        df = pd.DataFrame(rows)\n",
    "        sfh_file.parent.mkdir(parents=True, exist_ok=True)\n",
    "        df.to_csv(sfh_file)\n",
    "    # Read SFH table\n",
    "    sfh[name] = pd.read_csv(sfh_file, index_col=0)"
   ]
  },
  {
   "cell_type": "code",
   "execution_count": null,
   "metadata": {},
   "outputs": [],
   "source": [
    "# Make plot\n",
    "fig, ax = plt.subplots()\n",
    "ax.axhline(1e9, color='grey')\n",
    "for name, label in sims.items():\n",
    "    df = sfh[name]\n",
    "    ax.plot(df.t, df.m_star, label=label)\n",
    "ax.legend()\n",
    "ax.set_xlabel('Time [$Gyr$]')\n",
    "ax.set_ylabel('Stellar Mass [$M_\\odot$]')\n",
    "fig.savefig('cache/sfh-isolated.pdf', dpi=200)"
   ]
  }
 ],
 "metadata": {
  "kernelspec": {
   "display_name": "Python 3",
   "language": "python",
   "name": "python3"
  },
  "language_info": {
   "codemirror_mode": {
    "name": "ipython",
    "version": 3
   },
   "file_extension": ".py",
   "mimetype": "text/x-python",
   "name": "python",
   "nbconvert_exporter": "python",
   "pygments_lexer": "ipython3",
   "version": "3.6.6"
  }
 },
 "nbformat": 4,
 "nbformat_minor": 2
}
